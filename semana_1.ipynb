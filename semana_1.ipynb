{
 "cells": [
  {
   "cell_type": "markdown",
   "id": "f1066395",
   "metadata": {},
   "source": [
    "## Falar sobre o projeto"
   ]
  },
  {
   "cell_type": "code",
   "execution_count": null,
   "id": "a071333f",
   "metadata": {},
   "outputs": [],
   "source": [
    "from pyspark.sql import SparkSession"
   ]
  },
  {
   "cell_type": "code",
   "execution_count": 3,
   "id": "f5f125e4",
   "metadata": {},
   "outputs": [
    {
     "name": "stderr",
     "output_type": "stream",
     "text": [
      "<>:1: SyntaxWarning: invalid escape sequence '\\G'\n",
      "<>:1: SyntaxWarning: invalid escape sequence '\\G'\n",
      "C:\\Users\\lb\\AppData\\Local\\Temp\\ipykernel_13936\\3552856260.py:1: SyntaxWarning: invalid escape sequence '\\G'\n",
      "  caminho = 'C:\\GitHub\\Python\\Challenges\\Challenge DS\\Dados semana_1\\dataset_bruto.json'\n"
     ]
    }
   ],
   "source": [
    "caminho = 'C:\\GitHub\\Python\\Challenges\\Challenge DS\\Dados semana_1\\dataset_bruto.json'"
   ]
  },
  {
   "cell_type": "code",
   "execution_count": null,
   "id": "28b85803",
   "metadata": {},
   "outputs": [],
   "source": [
    "spark = SparkSession.builder \\\n",
    "    .master(\"local[*]\") \\\n",
    "    .appName(\"Teste\") \\\n",
    "    .getOrCreate()"
   ]
  },
  {
   "cell_type": "code",
   "execution_count": 6,
   "id": "7aeaec90",
   "metadata": {},
   "outputs": [],
   "source": [
    "tabela = spark.read.json(caminho)"
   ]
  },
  {
   "cell_type": "code",
   "execution_count": 19,
   "id": "8da4ec10",
   "metadata": {},
   "outputs": [
    {
     "name": "stdout",
     "output_type": "stream",
     "text": [
      "+--------------------+--------------------+--------------------+\n",
      "|             anuncio|             imagens|             usuario|\n",
      "+--------------------+--------------------+--------------------+\n",
      "|{0, [], [16], [0]...|[{39d6282a-71f3-4...|{9d44563d-3405-4e...|\n",
      "|{0, [], [14], [0]...|[{23d2b3ab-45b0-4...|{36245be7-70fe-40...|\n",
      "|{0, [1026], [1026...|[{1da65baa-368b-4...|{9dc415d8-1397-4d...|\n",
      "|{0, [120], [120],...|[{79b542c6-49b4-4...|{9911a2df-f299-4a...|\n",
      "|{0, [3], [3], [0]...|[{e2bc497b-6510-4...|{240a7aab-12e5-40...|\n",
      "+--------------------+--------------------+--------------------+\n",
      "\n"
     ]
    }
   ],
   "source": [
    "tabela.limit(5).show()"
   ]
  },
  {
   "cell_type": "markdown",
   "id": "78b4a850",
   "metadata": {},
   "source": [
    "## Explicar qual coluna vamos analisar e porque"
   ]
  },
  {
   "cell_type": "code",
   "execution_count": 17,
   "id": "e7bdfaa1",
   "metadata": {},
   "outputs": [
    {
     "name": "stdout",
     "output_type": "stream",
     "text": [
      "+----------------------------------------------------------------------------------------------------------------------------------------------------------------------------------------------------------------------------------------------------------------------------------------------------+\n",
      "|anuncio                                                                                                                                                                                                                                                                                             |\n",
      "+----------------------------------------------------------------------------------------------------------------------------------------------------------------------------------------------------------------------------------------------------------------------------------------------------+\n",
      "|{0, [], [16], [0], [], {Centro, 20061003, Rio de Janeiro, Rio de Janeiro, -22.906082, -43.18671, BR, Rua Buenos Aires, Zona Central}, 47d553e0-79f2-4a46-9390-5a3c962740c2, [0], [0], Usado, Outros, Comercial, [1], [{260, 107, Venda, 10000}]}                                                    |\n",
      "|{0, [], [14], [0], [], {Centro, 20051040, Rio de Janeiro, Rio de Janeiro, -22.902536, -43.18434, BR, Avenida Passos, Zona Central}, b6ffbae1-17f6-4870-9950-e998ac1c8d6a, [0], [], Usado, Outros, Comercial, [0], [{260, 107, Venda, 10000}]}                                                       |\n",
      "|{0, [1026], [1026], [0], [], {Maria da Graça, 20785360, Rio de Janeiro, Rio de Janeiro, -22.885516, -43.269083, BR, Rua Luís de Brito, Zona Norte}, 1fb030a5-9e3e-4a1d-93cd-cd2d8a215e11, [0], [], Usado, Outros, Comercial, [0], [{NULL, 1613, Venda, 10000}]}                                     |\n",
      "|{0, [120], [120], [0], [Portão eletrônico, Condomínio fechado], {Campo Grande, 23095071, Rio de Janeiro, Rio de Janeiro, -22.885028, -43.561668, BR, Estrada Guandu do Sape, Zona Oeste}, ac6cb348-69d6-45af-9589-dc34099370d8, [0], [], Usado, Outros, Residencial, [], [{80, NULL, Venda, 10000}]}|\n",
      "|{0, [3], [3], [0], [], {São Cristóvão, 20931670, Rio de Janeiro, Rio de Janeiro, -22.885912, -43.219296, BR, Rua Monsenhor Manuel Gomes, Zona Norte}, e032b908-ef42-4d4a-8125-eba4792bacbe, [0], [], Usado, Outros, Residencial, [], [{0, 0, Venda, 5000}]}                                         |\n",
      "+----------------------------------------------------------------------------------------------------------------------------------------------------------------------------------------------------------------------------------------------------------------------------------------------------+\n",
      "\n"
     ]
    }
   ],
   "source": [
    "df_anuncio = tabela.select('anuncio')\n",
    "df_anuncio.limit(5).show(truncate=False)"
   ]
  },
  {
   "cell_type": "code",
   "execution_count": 9,
   "id": "61a97bae",
   "metadata": {},
   "outputs": [
    {
     "data": {
      "text/plain": [
       "89083"
      ]
     },
     "execution_count": 9,
     "metadata": {},
     "output_type": "execute_result"
    }
   ],
   "source": [
    "df_anuncio.count()"
   ]
  },
  {
   "cell_type": "code",
   "execution_count": 18,
   "id": "5797288f",
   "metadata": {},
   "outputs": [
    {
     "data": {
      "text/plain": [
       "[Row(anuncio=Row(andar=0, area_total=[], area_util=['16'], banheiros=[0], caracteristicas=[], endereco=Row(bairro='Centro', cep='20061003', cidade='Rio de Janeiro', estado='Rio de Janeiro', latitude=-22.906082, longitude=-43.18671, pais='BR', rua='Rua Buenos Aires', zona='Zona Central'), id='47d553e0-79f2-4a46-9390-5a3c962740c2', quartos=[0], suites=[0], tipo_anuncio='Usado', tipo_unidade='Outros', tipo_uso='Comercial', vaga=[1], valores=[Row(condominio='260', iptu='107', tipo='Venda', valor='10000')])),\n",
       " Row(anuncio=Row(andar=0, area_total=[], area_util=['14'], banheiros=[0], caracteristicas=[], endereco=Row(bairro='Centro', cep='20051040', cidade='Rio de Janeiro', estado='Rio de Janeiro', latitude=-22.902536, longitude=-43.18434, pais='BR', rua='Avenida Passos', zona='Zona Central'), id='b6ffbae1-17f6-4870-9950-e998ac1c8d6a', quartos=[0], suites=[], tipo_anuncio='Usado', tipo_unidade='Outros', tipo_uso='Comercial', vaga=[0], valores=[Row(condominio='260', iptu='107', tipo='Venda', valor='10000')])),\n",
       " Row(anuncio=Row(andar=0, area_total=['1026'], area_util=['1026'], banheiros=[0], caracteristicas=[], endereco=Row(bairro='Maria da Graça', cep='20785360', cidade='Rio de Janeiro', estado='Rio de Janeiro', latitude=-22.885516, longitude=-43.269083, pais='BR', rua='Rua Luís de Brito', zona='Zona Norte'), id='1fb030a5-9e3e-4a1d-93cd-cd2d8a215e11', quartos=[0], suites=[], tipo_anuncio='Usado', tipo_unidade='Outros', tipo_uso='Comercial', vaga=[0], valores=[Row(condominio=None, iptu='1613', tipo='Venda', valor='10000')])),\n",
       " Row(anuncio=Row(andar=0, area_total=['120'], area_util=['120'], banheiros=[0], caracteristicas=['Portão eletrônico', 'Condomínio fechado'], endereco=Row(bairro='Campo Grande', cep='23095071', cidade='Rio de Janeiro', estado='Rio de Janeiro', latitude=-22.885028, longitude=-43.561668, pais='BR', rua='Estrada Guandu do Sape', zona='Zona Oeste'), id='ac6cb348-69d6-45af-9589-dc34099370d8', quartos=[0], suites=[], tipo_anuncio='Usado', tipo_unidade='Outros', tipo_uso='Residencial', vaga=[], valores=[Row(condominio='80', iptu=None, tipo='Venda', valor='10000')])),\n",
       " Row(anuncio=Row(andar=0, area_total=['3'], area_util=['3'], banheiros=[0], caracteristicas=[], endereco=Row(bairro='São Cristóvão', cep='20931670', cidade='Rio de Janeiro', estado='Rio de Janeiro', latitude=-22.885912, longitude=-43.219296, pais='BR', rua='Rua Monsenhor Manuel Gomes', zona='Zona Norte'), id='e032b908-ef42-4d4a-8125-eba4792bacbe', quartos=[0], suites=[], tipo_anuncio='Usado', tipo_unidade='Outros', tipo_uso='Residencial', vaga=[], valores=[Row(condominio='0', iptu='0', tipo='Venda', valor='5000')]))]"
      ]
     },
     "execution_count": 18,
     "metadata": {},
     "output_type": "execute_result"
    }
   ],
   "source": [
    "elementos = df_anuncio.collect()\n",
    "elementos[:5]"
   ]
  },
  {
   "cell_type": "code",
   "execution_count": 12,
   "id": "d4496fb9",
   "metadata": {},
   "outputs": [],
   "source": [
    "array = [elemento['anuncio'] for elemento in elementos]"
   ]
  },
  {
   "cell_type": "code",
   "execution_count": null,
   "id": "5e16a90b",
   "metadata": {},
   "outputs": [
    {
     "name": "stdout",
     "output_type": "stream",
     "text": [
      "root\n",
      " |-- andar: long (nullable = true)\n",
      " |-- area_total: array (nullable = true)\n",
      " |    |-- element: string (containsNull = true)\n",
      " |-- area_util: array (nullable = true)\n",
      " |    |-- element: string (containsNull = true)\n",
      " |-- banheiros: array (nullable = true)\n",
      " |    |-- element: long (containsNull = true)\n",
      " |-- caracteristicas: array (nullable = true)\n",
      " |    |-- element: string (containsNull = true)\n",
      " |-- endereco: struct (nullable = true)\n",
      " |    |-- bairro: string (nullable = true)\n",
      " |    |-- cep: string (nullable = true)\n",
      " |    |-- cidade: string (nullable = true)\n",
      " |    |-- estado: string (nullable = true)\n",
      " |    |-- latitude: double (nullable = true)\n",
      " |    |-- longitude: double (nullable = true)\n",
      " |    |-- pais: string (nullable = true)\n",
      " |    |-- rua: string (nullable = true)\n",
      " |    |-- zona: string (nullable = true)\n",
      " |-- id: string (nullable = true)\n",
      " |-- quartos: array (nullable = true)\n",
      " |    |-- element: long (containsNull = true)\n",
      " |-- suites: array (nullable = true)\n",
      " |    |-- element: long (containsNull = true)\n",
      " |-- tipo_anuncio: string (nullable = true)\n",
      " |-- tipo_unidade: string (nullable = true)\n",
      " |-- tipo_uso: string (nullable = true)\n",
      " |-- vaga: array (nullable = true)\n",
      " |    |-- element: long (containsNull = true)\n",
      " |-- valores: array (nullable = true)\n",
      " |    |-- element: struct (containsNull = true)\n",
      " |    |    |-- condominio: string (nullable = true)\n",
      " |    |    |-- iptu: string (nullable = true)\n",
      " |    |    |-- tipo: string (nullable = true)\n",
      " |    |    |-- valor: string (nullable = true)\n",
      "\n"
     ]
    }
   ],
   "source": [
    "df = spark.createDataFrame(array)\n",
    "df.printSchema()"
   ]
  },
  {
   "cell_type": "markdown",
   "id": "b93275c6",
   "metadata": {},
   "source": [
    "### Fazer análise crítca dos dados e argumentar dos tipos impróprios (valor, iptu, condominio, array, suites, quartos, area_util, area_total, andar)"
   ]
  },
  {
   "cell_type": "code",
   "execution_count": null,
   "id": "c465d5a6",
   "metadata": {},
   "outputs": [],
   "source": []
  }
 ],
 "metadata": {
  "kernelspec": {
   "display_name": "Python 3",
   "language": "python",
   "name": "python3"
  },
  "language_info": {
   "codemirror_mode": {
    "name": "ipython",
    "version": 3
   },
   "file_extension": ".py",
   "mimetype": "text/x-python",
   "name": "python",
   "nbconvert_exporter": "python",
   "pygments_lexer": "ipython3",
   "version": "3.13.3"
  }
 },
 "nbformat": 4,
 "nbformat_minor": 5
}
